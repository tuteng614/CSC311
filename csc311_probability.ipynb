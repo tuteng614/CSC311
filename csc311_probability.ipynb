{
  "nbformat": 4,
  "nbformat_minor": 0,
  "metadata": {
    "colab": {
      "provenance": [],
      "include_colab_link": true
    },
    "kernelspec": {
      "name": "python3",
      "display_name": "Python 3"
    },
    "language_info": {
      "name": "python"
    }
  },
  "cells": [
    {
      "cell_type": "markdown",
      "metadata": {
        "id": "view-in-github",
        "colab_type": "text"
      },
      "source": [
        "<a href=\"https://colab.research.google.com/github/tuteng614/CSC311/blob/main/csc311_probability.ipynb\" target=\"_parent\"><img src=\"https://colab.research.google.com/assets/colab-badge.svg\" alt=\"Open In Colab\"/></a>"
      ]
    },
    {
      "cell_type": "code",
      "execution_count": 1,
      "metadata": {
        "id": "QAveYzzRuJCg"
      },
      "outputs": [],
      "source": [
        "import numpy as np\n",
        "import matplotlib.pyplot as plt\n",
        "import seaborn as sns; sns.set()"
      ]
    },
    {
      "cell_type": "markdown",
      "source": [
        "# Discrete Distribution: Coin Flipping\n",
        "\n",
        "Consider a fair coin, which when flipped, is equally likely to come up Heads as it is Tails. In other words, the probability of both outcomes is 0.5. We can simulate one such flip as follows."
      ],
      "metadata": {
        "id": "yRL6Yrc1k3IA"
      }
    },
    {
      "cell_type": "code",
      "source": [
        "def flip_a_coin(p=0.5, print_stuff=False):\n",
        "  draw_uniform = np.random.uniform(0, 1)\n",
        "  if draw_uniform < p:\n",
        "    if print_stuff:\n",
        "      print(\"Heads!\")\n",
        "    return 1\n",
        "  else:\n",
        "    if print_stuff:\n",
        "      print(\"Tails!\")\n",
        "    return 0\n",
        "\n",
        "num_heads = flip_a_coin(print_stuff=True)"
      ],
      "metadata": {
        "colab": {
          "base_uri": "https://localhost:8080/"
        },
        "id": "fE_4YPRHk0Xp",
        "outputId": "d05957dd-be47-4949-e609-18bf852d06b9"
      },
      "execution_count": 2,
      "outputs": [
        {
          "output_type": "stream",
          "name": "stdout",
          "text": [
            "Tails!\n"
          ]
        }
      ]
    },
    {
      "cell_type": "markdown",
      "source": [
        "We can repeat this experiment many times and keep track of the number of heads we get."
      ],
      "metadata": {
        "id": "ntsU2k8ZmWha"
      }
    },
    {
      "cell_type": "code",
      "source": [
        "def flip_many_times(n=20):\n",
        "  num_heads = 0\n",
        "  for _ in range(n):\n",
        "    num_heads += flip_a_coin()\n",
        "  return num_heads / n\n",
        "\n",
        "avg_heads = flip_many_times()\n",
        "print(\"Empirical average for number of heads is: \", avg_heads, \".\")"
      ],
      "metadata": {
        "colab": {
          "base_uri": "https://localhost:8080/"
        },
        "id": "kAhIJGgImCbS",
        "outputId": "308c039e-b5da-4ab6-883f-00ff0044fee0"
      },
      "execution_count": null,
      "outputs": [
        {
          "output_type": "stream",
          "name": "stdout",
          "text": [
            "Empirical average for number of heads is:  0.5 .\n"
          ]
        }
      ]
    },
    {
      "cell_type": "markdown",
      "source": [
        "Let's see what happens to the empirical average as we increase the number of times we flip the coin."
      ],
      "metadata": {
        "id": "26lOfv7cneaA"
      }
    },
    {
      "cell_type": "code",
      "source": [
        "plt.figure()\n",
        "xs = np.arange(20, 2000, step=10)\n",
        "ys = [flip_many_times(n) for n in xs]\n",
        "plt.scatter(xs, ys)\n",
        "plt.hlines(0.5, 0, 2000, linestyles='dashed')\n",
        "plt.show()"
      ],
      "metadata": {
        "colab": {
          "base_uri": "https://localhost:8080/",
          "height": 268
        },
        "id": "zrvpFdAunJ_y",
        "outputId": "5c6a6dc4-3df6-43f2-8036-eef91a82c37c"
      },
      "execution_count": null,
      "outputs": [
        {
          "output_type": "display_data",
          "data": {
            "text/plain": [
              "<Figure size 432x288 with 1 Axes>"
            ],
            "image/png": "[encoded data removed]"
          },
          "metadata": {}
        }
      ]
    },
    {
      "cell_type": "markdown",
      "source": [
        "As the number of experiments increases, the empirical average gets closer to 0.5. This is equal to the expectation of a Bernoulli distirbution, which is the distribution followed by a coin flip!\n",
        "\n",
        "Let's also compute the empirical variance. Recall the formula: $\\frac{1}{n}\\sum_i (X_i - \\bar{X})^2$, where $X_i$ are samples from the distribution and $\\bar{X}$ is there empirical expectation (or average)."
      ],
      "metadata": {
        "id": "Y-EcKbsToXFH"
      }
    },
    {
      "cell_type": "code",
      "source": [
        "def variance_flips(n):\n",
        "  flip_samples = [flip_a_coin() for _ in range(n)]\n",
        "  avg_heads = sum(flip_samples) / n \n",
        "  # Above, we could alternatively use np.mean(flip_samples). \n",
        "  sq_mean_dist = [(x - avg_heads)**2 for x in flip_samples]\n",
        "  var = sum(sq_mean_dist) / n\n",
        "  # For variance, we could also use np.var(flip_samples).\n",
        "  return var\n",
        "\n",
        "print(\"Variance of number of heads after 20 flips is: \", variance_flips(20), \".\")"
      ],
      "metadata": {
        "colab": {
          "base_uri": "https://localhost:8080/"
        },
        "id": "HIQ-HL1unmmC",
        "outputId": "21cecbc6-ab57-4f5a-b749-7a5927e8384f"
      },
      "execution_count": null,
      "outputs": [
        {
          "output_type": "stream",
          "name": "stdout",
          "text": [
            "Variance of number of heads after 20 flips is:  0.22750000000000004 .\n"
          ]
        }
      ]
    },
    {
      "cell_type": "markdown",
      "source": [
        "Let's repeat what we did with expectation and see how the variance changes as we vary $n$."
      ],
      "metadata": {
        "id": "uSLuIiX6q5pZ"
      }
    },
    {
      "cell_type": "code",
      "source": [
        "plt.figure()\n",
        "xs = np.arange(20, 2000, step=10)\n",
        "ys = [variance_flips(n) for n in xs]\n",
        "plt.scatter(xs, ys)\n",
        "plt.hlines(0.25, 0, 2000, linestyles='dashed')\n",
        "plt.show()"
      ],
      "metadata": {
        "colab": {
          "base_uri": "https://localhost:8080/",
          "height": 268
        },
        "id": "QENO7eSyq25b",
        "outputId": "b78be648-a1eb-43c8-8b71-c26021e95e2b"
      },
      "execution_count": null,
      "outputs": [
        {
          "output_type": "display_data",
          "data": {
            "text/plain": [
              "<Figure size 432x288 with 1 Axes>"
            ],
            "image/png": "[encoded data removed]"
          },
          "metadata": {}
        }
      ]
    },
    {
      "cell_type": "markdown",
      "source": [
        "The empirical variance gets closer and closer to 0.25, which is the variance of a Bernoulli distribution with parameter 0.5! \n",
        "\n",
        "Recall, the variance of a Bernoulli is given by $p(1-p) = 0.5(1-0.5) - 0.25$."
      ],
      "metadata": {
        "id": "aid7Hv7RrJge"
      }
    },
    {
      "cell_type": "markdown",
      "source": [
        "# Continuous Distribution: Exponential\n",
        "\n",
        "Let us now take a look at a continuous distribution, namely the Exponential distribution. It has a single parameter $\\lambda$ and its pdf is given by $p(x) = \\lambda e^{-\\lambda x}$. Let's plot its pdf for $\\lambda = 1$.\n",
        "\n"
      ],
      "metadata": {
        "id": "qTNi69MXrmCb"
      }
    },
    {
      "cell_type": "code",
      "source": [
        "plt.figure()\n",
        "lamda = 1\n",
        "xs = np.arange(0, 10, 0.1)\n",
        "ys = [lamda * np.exp(-lamda*x) for x in xs]\n",
        "plt.plot(xs, ys)\n",
        "plt.show()"
      ],
      "metadata": {
        "colab": {
          "base_uri": "https://localhost:8080/",
          "height": 268
        },
        "id": "RqcdVRHPvnox",
        "outputId": "aaea1af8-e18e-4c8d-b136-16c69ef4ca97"
      },
      "execution_count": null,
      "outputs": [
        {
          "output_type": "display_data",
          "data": {
            "text/plain": [
              "<Figure size 432x288 with 1 Axes>"
            ],
            "image/png": "[encoded data removed]"
          },
          "metadata": {}
        }
      ]
    },
    {
      "cell_type": "markdown",
      "source": [
        "Its expectation is $\\frac{1}{\\lambda}$ and variance is $\\frac{1}{\\lambda^2}$. Let's simulate samples from this distribution and empirically verify these formulae.\n",
        "\n",
        "This time we will use the function ```np.random.exponential``` which takes as its argument the value of $\\frac{1}{\\lambda}$. Let's fix $\\lambda = 1$."
      ],
      "metadata": {
        "id": "RVmpdSZDvhjb"
      }
    },
    {
      "cell_type": "code",
      "source": [
        "def sample_exponential(lamda=1):\n",
        "  return np.random.exponential(1/lamda)\n",
        "\n",
        "def sample_n_exp(n, lamda=1):\n",
        "  samples = [sample_exponential(lamda) for _ in range(n)]\n",
        "  empirical_avg = np.mean(samples)\n",
        "  empirical_var = np.var(samples)\n",
        "  return empirical_avg, empirical_var\n",
        "\n",
        "print(\"After sampling 500 times, the empirical expectation and variance are: \", sample_n_exp(500), \".\")"
      ],
      "metadata": {
        "colab": {
          "base_uri": "https://localhost:8080/"
        },
        "id": "fl79SplIrFTs",
        "outputId": "b864f017-b8ef-4145-f34c-4e830fe3e334"
      },
      "execution_count": null,
      "outputs": [
        {
          "output_type": "stream",
          "name": "stdout",
          "text": [
            "After sampling 500 times, the empirical expectation and variance are:  (1.027412983233224, 1.0749965349583799) .\n"
          ]
        }
      ]
    },
    {
      "cell_type": "markdown",
      "source": [
        "Based the given formulae, the expectation and variance are both 1! We see above that the empirical values of these quantities are close to 1."
      ],
      "metadata": {
        "id": "Tqf98BznvJwJ"
      }
    },
    {
      "cell_type": "markdown",
      "source": [
        "## Side note about Documentation\n",
        "\n",
        "If you are curious what any of the functions used do or how you can use them, we encourage you to look at their documentation by running the name of the function with a '?' before it. For instance:\n",
        "\n",
        "`?np.mean`"
      ],
      "metadata": {
        "id": "8fpVUL2mQbLw"
      }
    },
    {
      "cell_type": "code",
      "source": [
        "?np.mean"
      ],
      "metadata": {
        "id": "utq8vB_mQe1H"
      },
      "execution_count": null,
      "outputs": []
    }
  ]
}